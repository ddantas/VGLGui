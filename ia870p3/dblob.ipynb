{
 "cells": [
  {
   "cell_type": "markdown",
   "metadata": {},
   "source": [
    "# dblob\n",
    "Demonstrate blob measurements and display."
   ]
  },
  {
   "cell_type": "markdown",
   "metadata": {},
   "source": [
    "## Description\n",
    "\n",
    "In this example, a binary image with many blobs is processed. The objective is to measure the area of each blob. First the blobs are labeled. To display the correspondent label number of each blob, a trick is used to dilate each labeled centroid by a structuring element formed by the number of the blob label. At final, the area of each blob is plotted against its label number."
   ]
  },
  {
   "cell_type": "code",
   "execution_count": 1,
   "metadata": {
    "ExecuteTime": {
     "end_time": "2018-12-25T13:23:55.382616Z",
     "start_time": "2018-12-25T13:23:55.089527Z"
    }
   },
   "outputs": [],
   "source": [
    "import numpy as np\n",
    "from PIL import Image\n",
    "import ia870 as ia\n"
   ]
  },
  {
   "cell_type": "markdown",
   "metadata": {},
   "source": [
    "## Image reading and labeling\n",
    "\n",
    "The binary image is read and then labeled. The number of blobs is measured as the maximum label value. Both images are displayed. "
   ]
  },
  {
   "cell_type": "code",
   "execution_count": 2,
   "metadata": {
    "ExecuteTime": {
     "end_time": "2018-12-25T13:23:55.431355Z",
     "start_time": "2018-12-25T13:23:55.385229Z"
    }
   },
   "outputs": [
    {
     "data": {
      "image/png": "[encoded data removed]",
      "text/plain": [
       "<PIL.TiffImagePlugin.TiffImageFile image mode=1 size=128x128 at 0x10AD43240>"
      ]
     },
     "execution_count": 2,
     "metadata": {},
     "output_type": "execute_result"
    }
   ],
   "source": [
    "f_pil = Image.open('data/blob3.tif')\n",
    "f_pil"
   ]
  },
  {
   "cell_type": "code",
   "execution_count": 3,
   "metadata": {
    "ExecuteTime": {
     "end_time": "2018-12-25T13:23:55.523368Z",
     "start_time": "2018-12-25T13:23:55.436455Z"
    }
   },
   "outputs": [
    {
     "name": "stdout",
     "output_type": "stream",
     "text": [
      "18\n"
     ]
    }
   ],
   "source": [
    "f = np.array(f_pil) > 0\n",
    "fr = ia.ialabel(f);\n",
    "nblobs=ia.iastats(fr,'max')\n",
    "print(nblobs)"
   ]
  },
  {
   "cell_type": "code",
   "execution_count": 4,
   "metadata": {
    "ExecuteTime": {
     "end_time": "2018-12-25T13:23:55.543002Z",
     "start_time": "2018-12-25T13:23:55.527119Z"
    }
   },
   "outputs": [
    {
     "data": {
      "image/png": "[encoded data removed]",
      "text/plain": [
       "<PIL.Image.Image image mode=RGB size=128x128 at 0x10ADD77B8>"
      ]
     },
     "execution_count": 4,
     "metadata": {},
     "output_type": "execute_result"
    }
   ],
   "source": [
    "Image.fromarray(ia.iaglblshow(fr,'border').transpose(1, 2 ,0))"
   ]
  },
  {
   "cell_type": "markdown",
   "metadata": {},
   "source": [
    "## Centroids\n",
    "The centroids are computed from the labeled image. After, the centroid image is labeled, so that each centroid point has a label value varying from 1 to the maximum number of blobs. For display illustration, the centroids are overlayed on the original blob image on the left and the labeled centroids are enlarged and displayed on the right. "
   ]
  },
  {
   "cell_type": "code",
   "execution_count": 5,
   "metadata": {
    "ExecuteTime": {
     "end_time": "2018-12-25T13:23:55.566487Z",
     "start_time": "2018-12-25T13:23:55.547187Z"
    }
   },
   "outputs": [
    {
     "data": {
      "image/png": "[encoded data removed]",
      "text/plain": [
       "<PIL.Image.Image image mode=RGB size=128x128 at 0x10ADD7BA8>"
      ]
     },
     "execution_count": 5,
     "metadata": {},
     "output_type": "execute_result"
    }
   ],
   "source": [
    "c = ia.iablob(fr,'centroid') # boolean image\n",
    "cr = ia.ialabel(c)\n",
    "Image.fromarray(ia.iagshow(f,c).transpose(1, 2 ,0))"
   ]
  },
  {
   "cell_type": "code",
   "execution_count": 6,
   "metadata": {
    "ExecuteTime": {
     "end_time": "2018-12-25T13:23:55.592126Z",
     "start_time": "2018-12-25T13:23:55.572793Z"
    }
   },
   "outputs": [
    {
     "data": {
      "image/png": "[encoded data removed]",
      "text/plain": [
       "<PIL.Image.Image image mode=RGB size=128x128 at 0x10ADD7908>"
      ]
     },
     "execution_count": 6,
     "metadata": {},
     "output_type": "execute_result"
    }
   ],
   "source": [
    "Image.fromarray(ia.iaglblshow(ia.iadil(cr)).transpose(1, 2, 0))"
   ]
  },
  {
   "cell_type": "markdown",
   "metadata": {
    "ExecuteTime": {
     "end_time": "2018-12-25T13:23:55.599876Z",
     "start_time": "2018-12-25T13:23:55.596024Z"
    }
   },
   "source": [
    "## Placing a number on a particular blob"
   ]
  },
  {
   "cell_type": "code",
   "execution_count": 9,
   "metadata": {
    "ExecuteTime": {
     "end_time": "2018-12-25T13:24:50.763348Z",
     "start_time": "2018-12-25T13:24:50.747221Z"
    }
   },
   "outputs": [],
   "source": [
    "fbin=ia.iacmp(cr,'==',np.uint16(5))\n",
    "#print(f5)\n",
    "f5 = ia.iatext('5')\n",
    "b5 = ia.iaimg2se(f5)\n",
    "fb5 = ia.iadil(fbin, b5)"
   ]
  },
  {
   "cell_type": "code",
   "execution_count": 10,
   "metadata": {
    "ExecuteTime": {
     "end_time": "2018-12-25T13:25:06.123887Z",
     "start_time": "2018-12-25T13:25:06.114647Z"
    }
   },
   "outputs": [
    {
     "data": {
      "image/png": "[encoded data removed]",
      "text/plain": [
       "<PIL.Image.Image image mode=L size=128x128 at 0x10AEB3208>"
      ]
     },
     "execution_count": 10,
     "metadata": {},
     "output_type": "execute_result"
    }
   ],
   "source": [
    "#Temp = ia.iadil(fbin)\n",
    "#Temp = Temp.astype(np.uint8)*255\n",
    "#print(type(Temp))\n",
    "#Image.fromarray(ia.iagshow(Temp))\n",
    "#mmshow(f,fb5);\n",
    "Image.fromarray(ia.iadil(fbin).astype(np.uint8)*255)"
   ]
  },
  {
   "cell_type": "code",
   "execution_count": 11,
   "metadata": {
    "ExecuteTime": {
     "end_time": "2018-12-25T13:25:08.705745Z",
     "start_time": "2018-12-25T13:25:08.692566Z"
    }
   },
   "outputs": [
    {
     "data": {
      "image/png": "[encoded data removed]",
      "text/plain": [
       "<PIL.Image.Image image mode=RGB size=128x128 at 0x10AEB3390>"
      ]
     },
     "execution_count": 11,
     "metadata": {},
     "output_type": "execute_result"
    }
   ],
   "source": [
    "Image.fromarray(ia.iagshow(f.astype(np.uint8)*255, fb5).transpose(1, 2, 0))"
   ]
  },
  {
   "cell_type": "markdown",
   "metadata": {
    "ExecuteTime": {
     "end_time": "2018-12-25T13:25:10.188664Z",
     "start_time": "2018-12-25T13:25:10.181335Z"
    }
   },
   "source": [
    "## Placing a label number to each labeled blob\n",
    "To automate the process just described, a loop scans every label value and stamp its number in a final image.\n",
    "The stamps are accumulated with the mmunion function. The area is computed and plotted against each label blob number. "
   ]
  },
  {
   "cell_type": "code",
   "execution_count": 13,
   "metadata": {
    "ExecuteTime": {
     "end_time": "2018-12-25T13:26:00.654676Z",
     "start_time": "2018-12-25T13:26:00.511612Z"
    }
   },
   "outputs": [
    {
     "data": {
      "image/png": "[encoded data removed]",
      "text/plain": [
       "<PIL.Image.Image image mode=RGB size=128x128 at 0x10ADF6128>"
      ]
     },
     "execution_count": 13,
     "metadata": {},
     "output_type": "execute_result"
    }
   ],
   "source": [
    "facc=ia.iasubm(f,f);\n",
    "for i in range(1,nblobs+1):\n",
    "    fbin = cr == i\n",
    "    fi   = ia.iatext(str(i))\n",
    "    bi   = ia.iaimg2se(fi)\n",
    "    fbi  = ia.iadil(fbin,bi)\n",
    "    facc = ia.iaunion(facc,fbi)\n",
    "Image.fromarray(ia.iagshow(f.astype(np.uint8)*255, facc).transpose(1, 2, 0))"
   ]
  },
  {
   "cell_type": "code",
   "execution_count": 14,
   "metadata": {
    "ExecuteTime": {
     "end_time": "2018-12-25T13:26:12.886602Z",
     "start_time": "2018-12-25T13:26:12.881914Z"
    }
   },
   "outputs": [],
   "source": [
    "darea = ia.iablob(fr,'area','data')"
   ]
  },
  {
   "cell_type": "code",
   "execution_count": 20,
   "metadata": {
    "ExecuteTime": {
     "end_time": "2018-12-25T13:31:31.833571Z",
     "start_time": "2018-12-25T13:31:31.594170Z"
    }
   },
   "outputs": [
    {
     "data": {
      "text/plain": [
       "<BarContainer object of 18 artists>"
      ]
     },
     "execution_count": 20,
     "metadata": {},
     "output_type": "execute_result"
    },
    {
     "data": {
      "image/png": "[encoded data removed]",
      "text/plain": [
       "<Figure size 432x288 with 1 Axes>"
      ]
     },
     "metadata": {},
     "output_type": "display_data"
    }
   ],
   "source": [
    "%matplotlib inline\n",
    "import matplotlib.pyplot as plt\n",
    "plt.bar(np.arange(nblobs)+1,darea)"
   ]
  },
  {
   "cell_type": "code",
   "execution_count": null,
   "metadata": {},
   "outputs": [],
   "source": []
  }
 ],
 "metadata": {
  "kernelspec": {
   "display_name": "Python 3",
   "language": "python",
   "name": "python3"
  },
  "language_info": {
   "codemirror_mode": {
    "name": "ipython",
    "version": 3
   },
   "file_extension": ".py",
   "mimetype": "text/x-python",
   "name": "python",
   "nbconvert_exporter": "python",
   "pygments_lexer": "ipython3",
   "version": "3.6.5"
  },
  "toc": {
   "base_numbering": 1,
   "nav_menu": {},
   "number_sections": true,
   "sideBar": true,
   "skip_h1_title": false,
   "title_cell": "Table of Contents",
   "title_sidebar": "Contents",
   "toc_cell": false,
   "toc_position": {},
   "toc_section_display": true,
   "toc_window_display": false
  }
 },
 "nbformat": 4,
 "nbformat_minor": 2
}
