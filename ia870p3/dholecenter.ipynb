{
 "cells": [
  {
   "cell_type": "markdown",
   "metadata": {},
   "source": [
    "# mmdholecenter\n",
    "Hole center misalignment in PCB."
   ]
  },
  {
   "cell_type": "markdown",
   "metadata": {},
   "source": [
    "# Description\n",
    "\n",
    "The input image is a binary image of a gear. The opening top-hat is used to detect the gear teeth. Finally, the teeth detected are labeled.\n"
   ]
  },
  {
   "cell_type": "code",
   "execution_count": 1,
   "metadata": {
    "ExecuteTime": {
     "end_time": "2019-01-06T03:37:57.757663Z",
     "start_time": "2019-01-06T03:37:56.900819Z"
    }
   },
   "outputs": [],
   "source": [
    "import numpy as np\n",
    "from PIL import Image\n",
    "import ia870 as ia\n",
    "import matplotlib.pyplot as plt"
   ]
  },
  {
   "cell_type": "markdown",
   "metadata": {},
   "source": [
    "# Reading\n",
    "\n",
    "The image of the PCB is read. "
   ]
  },
  {
   "cell_type": "code",
   "execution_count": 2,
   "metadata": {
    "ExecuteTime": {
     "end_time": "2019-01-06T03:37:58.302404Z",
     "start_time": "2019-01-06T03:37:57.761047Z"
    }
   },
   "outputs": [
    {
     "data": {
      "text/plain": [
       "(-0.5, 255.5, 199.5, -0.5)"
      ]
     },
     "execution_count": 2,
     "metadata": {},
     "output_type": "execute_result"
    },
    {
     "data": {
      "image/png": "[encoded data removed]",
      "text/plain": [
       "<Figure size 360x360 with 1 Axes>"
      ]
     },
     "metadata": {},
     "output_type": "display_data"
    }
   ],
   "source": [
    "a_pil = Image.open('data/pcbholes.tif').convert('L')\n",
    "a = np.array (a_pil)\n",
    "a = a.astype('bool')\n",
    "(fig, axes) = plt.subplots(nrows=1, ncols=1,figsize=(5, 5))\n",
    "axes.set_title('a')\n",
    "axes.imshow(a, cmap='gray')\n",
    "axes.axis('off')"
   ]
  },
  {
   "cell_type": "markdown",
   "metadata": {},
   "source": [
    "# First, find center of the pads.\n",
    "\n",
    "Use the close hole function to remove the holes. Note that one hole is open. This is not considered in this experiment. The regional maxima of the distance transform gives the radius of the largest disk inside the pad. We are interested only in radius larger than 20 pixels."
   ]
  },
  {
   "cell_type": "code",
   "execution_count": 3,
   "metadata": {
    "ExecuteTime": {
     "end_time": "2019-01-06T03:37:59.642518Z",
     "start_time": "2019-01-06T03:37:58.306463Z"
    }
   },
   "outputs": [
    {
     "data": {
      "text/plain": [
       "(-0.5, 255.5, 199.5, -0.5)"
      ]
     },
     "execution_count": 3,
     "metadata": {},
     "output_type": "execute_result"
    },
    {
     "data": {
      "image/png": "[encoded data removed]",
      "text/plain": [
       "<Figure size 720x360 with 2 Axes>"
      ]
     },
     "metadata": {},
     "output_type": "display_data"
    }
   ],
   "source": [
    "b = ia.iaclohole(a)\n",
    "d = ia.iadist(b,ia.iasecross(),'EUCLIDEAN')\n",
    "e = ia.iaregmax(d,ia.iasebox())\n",
    "f = ia.iathreshad(d, np.uint16(20))  # radius larger than 20 pixels\n",
    "g = ia.iaintersec(e,f)\n",
    "h = ia.iablob(ia.ialabel(g,ia.iasebox()),'CENTROID') # pad center\n",
    "\n",
    "(fig, axes) = plt.subplots(nrows=1, ncols=2,figsize=(10, 5))\n",
    "axes[0].set_title('b')\n",
    "axes[0].imshow(b, cmap='gray')\n",
    "axes[0].axis('off')\n",
    "axes[1].set_title('b, h')\n",
    "axes[1].imshow(ia.iagshow(b, ia.iadil(h)).transpose(1, 2, 0))\n",
    "axes[1].axis('off')"
   ]
  },
  {
   "cell_type": "markdown",
   "metadata": {},
   "source": [
    "## Find the center of the holes\n",
    "\n",
    "The holes are given by the difference of the pad image from the original image. Repeat the same procedure to find the center of the pads to find now the center of the holes. "
   ]
  },
  {
   "cell_type": "code",
   "execution_count": 4,
   "metadata": {
    "ExecuteTime": {
     "end_time": "2019-01-06T03:38:00.112529Z",
     "start_time": "2019-01-06T03:37:59.646313Z"
    }
   },
   "outputs": [
    {
     "data": {
      "text/plain": [
       "(-0.5, 255.5, 199.5, -0.5)"
      ]
     },
     "execution_count": 4,
     "metadata": {},
     "output_type": "execute_result"
    },
    {
     "data": {
      "image/png": "[encoded data removed]",
      "text/plain": [
       "<Figure size 720x360 with 4 Axes>"
      ]
     },
     "metadata": {},
     "output_type": "display_data"
    }
   ],
   "source": [
    "i = ia.iasubm(b,a)\n",
    "j = ia.iadist(i,ia.iasecross(),'EUCLIDEAN')\n",
    "k = ia.iaregmax(j,ia.iasebox())\n",
    "l = ia.iablob(ia.ialabel(k,ia.iasebox()),'CENTROID') # hole center\n",
    "\n",
    "(fig, axes) = plt.subplots(nrows=2, ncols=2,figsize=(10, 5))\n",
    "axes[0][0].set_title('i')\n",
    "axes[0][0].imshow(ia.iagshow(i).transpose(1, 2, 0))\n",
    "axes[0][0].axis('off')\n",
    "axes[0][1].set_title('j')\n",
    "axes[0][1].imshow(d, cmap='gray')\n",
    "axes[0][1].axis('off')\n",
    "axes[1][0].set_title('k')\n",
    "axes[1][0].imshow(ia.iagshow(ia.iadil(k)).transpose(1, 2, 0))\n",
    "axes[1][0].axis('off')\n",
    "axes[1][1].set_title('i, l')\n",
    "axes[1][1].imshow(ia.iagshow(i, ia.iadil(l)).transpose(1, 2, 0))\n",
    "axes[1][1].axis('off')"
   ]
  },
  {
   "cell_type": "markdown",
   "metadata": {},
   "source": [
    "## Show the eccentricity\n",
    "\n",
    "First both centers (pads and holes) are displayed together. Then the actual misalignment is computed using the distance from one point to the other. "
   ]
  },
  {
   "cell_type": "code",
   "execution_count": 5,
   "metadata": {
    "ExecuteTime": {
     "end_time": "2019-01-06T03:38:01.119124Z",
     "start_time": "2019-01-06T03:38:00.116230Z"
    }
   },
   "outputs": [
    {
     "name": "stdout",
     "output_type": "stream",
     "text": [
      "[ 43  44 153] [ 88 191 187] [3 8 6]\n"
     ]
    },
    {
     "data": {
      "text/plain": [
       "(-0.5, 255.5, 199.5, -0.5)"
      ]
     },
     "execution_count": 5,
     "metadata": {},
     "output_type": "execute_result"
    },
    {
     "data": {
      "image/png": "[encoded data removed]",
      "text/plain": [
       "<Figure size 720x360 with 2 Axes>"
      ]
     },
     "metadata": {},
     "output_type": "display_data"
    }
   ],
   "source": [
    "m = ia.iadist(ia.ianeg(l),ia.iasecross(),'EUCLIDEAN');\n",
    "n = ia.iaintersec(ia.iagray(h),np.uint8(m));\n",
    "[x,y]=np.nonzero(n);\n",
    "v = n[np.nonzero(n)]\n",
    "print (x, y, v)\n",
    "\n",
    "#fprintf('displacement of %d at (%d,%d)\\n',[double(v)';x';y']);\n",
    "\n",
    "#displacement of 3 at (44,89)\n",
    "#displacement of 6 at (154,188)\n",
    "#displacement of 8 at (45,192)\n",
    "\n",
    "(fig, axes) = plt.subplots(nrows=1, ncols=2,figsize=(10, 5))\n",
    "axes[0].set_title('a, h, l')\n",
    "axes[0].imshow(ia.iagshow(a, h, l).transpose(1, 2, 0))\n",
    "axes[0].axis('off')\n",
    "axes[1].set_title('n, a')\n",
    "axes[1].imshow(ia.iagshow(n, a).transpose(1, 2, 0))\n",
    "axes[1].axis('off')\n"
   ]
  },
  {
   "cell_type": "markdown",
   "metadata": {},
   "source": [
    "## Find the narrowest region around the holes\n",
    "\n",
    "First, the thinning to compute the skeleton of the PCB image, then remove iteratively all the end points of the skeleton so just the skeleton loop around the holes remains. Find the minimum distance of these loops to the border and display their location. "
   ]
  },
  {
   "cell_type": "code",
   "execution_count": 6,
   "metadata": {
    "ExecuteTime": {
     "end_time": "2019-01-06T03:38:02.904700Z",
     "start_time": "2019-01-06T03:38:01.123579Z"
    }
   },
   "outputs": [
    {
     "name": "stdout",
     "output_type": "stream",
     "text": [
      "[7. 7. 3.]\n"
     ]
    },
    {
     "data": {
      "text/plain": [
       "(-0.5, 255.5, 199.5, -0.5)"
      ]
     },
     "execution_count": 6,
     "metadata": {},
     "output_type": "execute_result"
    },
    {
     "data": {
      "image/png": "[encoded data removed]",
      "text/plain": [
       "<Figure size 720x360 with 2 Axes>"
      ]
     },
     "metadata": {},
     "output_type": "display_data"
    }
   ],
   "source": [
    "o=ia.iathin(a)\n",
    "p=ia.iathin(o,ia.iaendpoints())\n",
    "q = ia.iadist(a,ia.iasecross(),'EUCLIDEAN')\n",
    "r = ia.iagrain(ia.ialabel(p,ia.iasebox()),q,'min') # minimum\n",
    "s = ia.iagrain(ia.ialabel(p,ia.iasebox()),q,'min','data'); # minimum\n",
    "t = ia.iaintersec(ia.iacmp(r,'==',q),a);\n",
    "\n",
    "print (2*s+1)\n",
    "#fprintf('Minimum distance: %d pixels\\n',2*double(s)+1);\n",
    "#Minimum distance: 7 pixels\n",
    "#Minimum distance: 3 pixels\n",
    "#Minimum distance: 7 pixels\n",
    "\n",
    "(fig, axes) = plt.subplots(nrows=1, ncols=2,figsize=(10, 5))\n",
    "axes[0].set_title('a, p')\n",
    "axes[0].imshow(ia.iagshow(a, p).transpose(1, 2, 0))\n",
    "axes[0].axis('off')\n",
    "axes[1].set_title('a, t')\n",
    "axes[1].imshow(ia.iagshow(a, ia.iadil(t)).transpose(1, 2, 0))\n",
    "axes[1].axis('off')"
   ]
  }
 ],
 "metadata": {
  "kernelspec": {
   "display_name": "Python 3",
   "language": "python",
   "name": "python3"
  },
  "language_info": {
   "codemirror_mode": {
    "name": "ipython",
    "version": 3
   },
   "file_extension": ".py",
   "mimetype": "text/x-python",
   "name": "python",
   "nbconvert_exporter": "python",
   "pygments_lexer": "ipython3",
   "version": "3.6.5"
  },
  "toc": {
   "base_numbering": 1,
   "nav_menu": {},
   "number_sections": true,
   "sideBar": true,
   "skip_h1_title": false,
   "title_cell": "Table of Contents",
   "title_sidebar": "Contents",
   "toc_cell": false,
   "toc_position": {},
   "toc_section_display": true,
   "toc_window_display": false
  }
 },
 "nbformat": 4,
 "nbformat_minor": 2
}
