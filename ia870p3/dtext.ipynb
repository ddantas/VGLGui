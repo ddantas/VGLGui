{
 "cells": [
  {
   "cell_type": "code",
   "execution_count": 15,
   "metadata": {
    "ExecuteTime": {
     "end_time": "2019-02-04T03:43:13.824069Z",
     "start_time": "2019-02-04T03:43:13.816340Z"
    }
   },
   "outputs": [],
   "source": [
    "import numpy as np\n",
    "from PIL import Image\n",
    "import ia870 as MT"
   ]
  },
  {
   "cell_type": "code",
   "execution_count": 2,
   "metadata": {
    "ExecuteTime": {
     "end_time": "2019-02-04T03:27:41.090540Z",
     "start_time": "2019-02-04T03:27:41.081764Z"
    }
   },
   "outputs": [],
   "source": [
    "a = MT.iatext('0123456789')"
   ]
  },
  {
   "cell_type": "code",
   "execution_count": 11,
   "metadata": {
    "ExecuteTime": {
     "end_time": "2019-02-04T03:30:31.040429Z",
     "start_time": "2019-02-04T03:30:31.003788Z"
    }
   },
   "outputs": [],
   "source": [
    "g = MT.iabshow(a,a)"
   ]
  },
  {
   "cell_type": "code",
   "execution_count": 14,
   "metadata": {
    "ExecuteTime": {
     "end_time": "2019-02-04T03:33:14.721135Z",
     "start_time": "2019-02-04T03:33:14.712563Z"
    }
   },
   "outputs": [
    {
     "data": {
      "text/plain": [
       "((255, 1530), dtype('bool'), False, True)"
      ]
     },
     "execution_count": 14,
     "metadata": {},
     "output_type": "execute_result"
    }
   ],
   "source": [
    "g.shape, g.dtype, g.min(), g.max()"
   ]
  },
  {
   "cell_type": "code",
   "execution_count": 13,
   "metadata": {
    "ExecuteTime": {
     "end_time": "2019-02-04T03:30:32.635319Z",
     "start_time": "2019-02-04T03:30:32.619021Z"
    },
    "scrolled": true
   },
   "outputs": [
    {
     "data": {
      "image/png": "[encoded data removed]",
      "text/plain": [
       "<PIL.Image.Image image mode=L size=1530x255 at 0x11465F7F0>"
      ]
     },
     "execution_count": 13,
     "metadata": {},
     "output_type": "execute_result"
    }
   ],
   "source": [
    "Image.fromarray(g.astype('uint8')*255)"
   ]
  },
  {
   "cell_type": "markdown",
   "metadata": {},
   "source": [
    "## Caso de matriz espaçamento fixo 5x7"
   ]
  },
  {
   "cell_type": "code",
   "execution_count": 45,
   "metadata": {
    "ExecuteTime": {
     "end_time": "2019-02-04T04:13:04.067378Z",
     "start_time": "2019-02-04T04:13:03.964300Z"
    }
   },
   "outputs": [
    {
     "data": {
      "text/plain": [
       "(7, 28)"
      ]
     },
     "execution_count": 45,
     "metadata": {},
     "output_type": "execute_result"
    }
   ],
   "source": [
    "txt = '0123'\n",
    "FontDft = np.array([[0,0,1,1,1,0,0], # 0\n",
    "                    [0,1,0,0,1,1,0],\n",
    "                    [0,1,0,0,1,1,0],\n",
    "                    [0,1,0,1,0,1,0],\n",
    "                    [0,1,1,0,0,1,0],\n",
    "                    [0,1,1,0,0,1,0],\n",
    "                    [0,0,1,1,1,0,0],\n",
    "                    [0,0,0,1,0,0,0], # 1\n",
    "                    [0,0,1,1,0,0,0],\n",
    "                    [0,0,0,1,0,0,0],\n",
    "                    [0,0,0,1,0,0,0],\n",
    "                    [0,0,0,1,0,0,0],\n",
    "                    [0,0,0,1,0,0,0],\n",
    "                    [0,0,1,1,1,0,0],\n",
    "                    [0,0,1,1,1,0,0], # 2\n",
    "                    [0,1,0,0,0,1,0],\n",
    "                    [0,0,0,0,0,1,0],\n",
    "                    [0,0,1,1,1,0,0],\n",
    "                    [0,1,0,0,0,0,0],\n",
    "                    [0,1,0,0,0,0,0],\n",
    "                    [0,1,1,1,1,1,0],\n",
    "                    [0,0,1,1,1,0,0], # 3\n",
    "                    [0,1,0,0,0,1,0],\n",
    "                    [0,0,0,0,1,0,0],\n",
    "                    [0,0,0,1,1,0,0],\n",
    "                    [0,0,0,0,0,1,0],\n",
    "                    [0,1,0,0,0,1,0],\n",
    "                    [0,0,1,1,1,0,0],\n",
    "                   ],'bool')\n",
    "FIRST_CHAR =ord('0')\n",
    "LAST_CHAR  = ord('3')\n",
    "N_CHARS    = 1 + LAST_CHAR - FIRST_CHAR\n",
    "WIDTH_DFT  = 7\n",
    "HEIGHT_DFT = 7\n",
    "\n",
    "FontDft = np.reshape(FontDft,(HEIGHT_DFT * N_CHARS, WIDTH_DFT))\n",
    "y = ()\n",
    "for c in txt:\n",
    "  i = ord(c) - FIRST_CHAR\n",
    "  assert i < N_CHARS,'iatext, code not allowed (%s)' % c\n",
    "  if len(y) == 0:\n",
    "    y = FontDft[i*HEIGHT_DFT:(i+1)*HEIGHT_DFT,:]\n",
    "  else:\n",
    "    y = MT.iaconcat('w',y,FontDft[i*HEIGHT_DFT:(i+1)*HEIGHT_DFT,:])\n",
    "\n",
    "y.shape"
   ]
  },
  {
   "cell_type": "code",
   "execution_count": 46,
   "metadata": {
    "ExecuteTime": {
     "end_time": "2019-02-04T04:13:05.170128Z",
     "start_time": "2019-02-04T04:13:05.148689Z"
    },
    "scrolled": false
   },
   "outputs": [
    {
     "data": {
      "image/png": "[encoded data removed]",
      "text/plain": [
       "<PIL.Image.Image image mode=L size=476x119 at 0x11477DC88>"
      ]
     },
     "execution_count": 46,
     "metadata": {},
     "output_type": "execute_result"
    }
   ],
   "source": [
    "Image.fromarray(MT.iabshow(y,y).astype('uint8')*255)"
   ]
  },
  {
   "cell_type": "code",
   "execution_count": null,
   "metadata": {},
   "outputs": [],
   "source": []
  }
 ],
 "metadata": {
  "kernelspec": {
   "display_name": "Python 3",
   "language": "python",
   "name": "python3"
  },
  "language_info": {
   "codemirror_mode": {
    "name": "ipython",
    "version": 3
   },
   "file_extension": ".py",
   "mimetype": "text/x-python",
   "name": "python",
   "nbconvert_exporter": "python",
   "pygments_lexer": "ipython3",
   "version": "3.6.5"
  },
  "toc": {
   "base_numbering": 1,
   "nav_menu": {},
   "number_sections": true,
   "sideBar": true,
   "skip_h1_title": false,
   "title_cell": "Table of Contents",
   "title_sidebar": "Contents",
   "toc_cell": false,
   "toc_position": {},
   "toc_section_display": true,
   "toc_window_display": false
  }
 },
 "nbformat": 4,
 "nbformat_minor": 2
}
